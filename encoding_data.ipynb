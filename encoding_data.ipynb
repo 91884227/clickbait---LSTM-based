{
 "cells": [
  {
   "cell_type": "markdown",
   "metadata": {},
   "source": [
    "# import tool"
   ]
  },
  {
   "cell_type": "code",
   "execution_count": 41,
   "metadata": {},
   "outputs": [],
   "source": [
    "import pandas as pd\n",
    "import numpy as np\n",
    "import pickle\n",
    "import json\n",
    "from tqdm import tqdm\n",
    "import sys"
   ]
  },
  {
   "cell_type": "code",
   "execution_count": 42,
   "metadata": {},
   "outputs": [],
   "source": [
    "if __name__ == '__main__':\n",
    "    # FILE_PATH = \"v5_X_normal_train.json\"\n",
    "    # CLASS_PATH = \"v5_Encoding_function.pkl\"\n",
    "    # MAX_LEN = 20\n",
    "    # LIMIT = 1\n",
    "    # OUTPUT_PRE_NAME = \"V1\"\n",
    "    \n",
    "    FILENAME = sys.argv[1]\n",
    "    CLASSNAME = sys.argv[2]\n",
    "    MAX_LEN = int(sys.argv[3])\n",
    "    LIMIT = int(sys.argv[4])\n",
    "    OUTPUT_PRE_NAME = sys.argv[5]\n",
    "\n",
    "    print(\"read file in..\")\n",
    "    with open(\"./preo_data/%s\" % FILENAME) as json_file:\n",
    "        data = json.load(json_file)\n",
    "\n",
    "    with open(\"./preo_data/%s\" % CLASSNAME, 'rb') as input:\n",
    "        le = pickle.load(input)\n",
    "\n",
    "    if( LIMIT ):\n",
    "        data = data[:100]\n",
    "\n",
    "    print(\"processing data...\")\n",
    "    command_word_list = list(le.classes_)\n",
    "    after_replace = [ [i if i in command_word_list else \"<UNK>\" for i in str_] for str_ in tqdm(data)]\n",
    "    after_len_selection = [i if len(i)<MAX_LEN else i[:MAX_LEN] for i in after_replace]\n",
    "\n",
    "    print(\"save data...\")\n",
    "    output_name = \"%s_Encoding_%s.json\" % (OUTPUT_PRE_NAME, FILENAME[:-5])\n",
    "    with open('./preo_data/%s' % output_name , 'w') as outfile:\n",
    "        json.dump(after_replace, outfile)"
   ]
  }
 ],
 "metadata": {
  "kernelspec": {
   "display_name": "Python 3",
   "language": "python",
   "name": "python3"
  },
  "language_info": {
   "codemirror_mode": {
    "name": "ipython",
    "version": 3
   },
   "file_extension": ".py",
   "mimetype": "text/x-python",
   "name": "python",
   "nbconvert_exporter": "python",
   "pygments_lexer": "ipython3",
   "version": "3.7.6"
  }
 },
 "nbformat": 4,
 "nbformat_minor": 2
}
