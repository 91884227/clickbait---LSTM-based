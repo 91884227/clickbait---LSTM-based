{
 "cells": [
  {
   "cell_type": "markdown",
   "metadata": {},
   "source": [
    "# import tool"
   ]
  },
  {
   "cell_type": "code",
   "execution_count": 126,
   "metadata": {},
   "outputs": [],
   "source": [
    "import pandas as pd\n",
    "import numpy as np\n",
    "import json\n",
    "from tqdm import tqdm\n",
    "import sys"
   ]
  },
  {
   "cell_type": "code",
   "execution_count": 127,
   "metadata": {},
   "outputs": [],
   "source": [
    "def replace_str(pos, ws, tag = [\"Nb\", \"Neu\", \"Nc\", \"Nd\", \"Nf\"]):\n",
    "    buf = ws.copy()\n",
    "    #print(buf)\n",
    "    #print(pos)\n",
    "    for index, i_pos in enumerate(pos):\n",
    "        if( i_pos in tag):\n",
    "            buf[index] = i_pos\n",
    "    return(buf)"
   ]
  },
  {
   "cell_type": "code",
   "execution_count": 132,
   "metadata": {},
   "outputs": [],
   "source": [
    "if __name__ == '__main__':\n",
    "    FILENAME_POS = sys.argv[1]\n",
    "    FILENAME_ws = sys.argv[2]\n",
    "    LIMIT = int(sys.argv[3])\n",
    "#     FILENAME_POS = \"Gossip_title_20000_to_39088_adjust_POS.json\"\n",
    "#     FILENAME_ws = \"Gossip_title_20000_to_39088_adjust_ws.json\"\n",
    "\n",
    "    FILENAME = FILENAME_ws[:-8]\n",
    "    \n",
    "    print(\"read data\")\n",
    "    with open(\"./ori_data/%s\" % FILENAME_POS) as json_file:\n",
    "        data_POS = json.load(json_file)\n",
    "\n",
    "    with open(\"./ori_data/%s\" % FILENAME_ws) as json_file:\n",
    "        data_ws = json.load(json_file)\n",
    "\n",
    "    print(\"start replace...\")\n",
    "    if(LIMIT ):\n",
    "        buf = [replace_str(data_POS[i], data_ws[i]) for i in tqdm(range(100))]\n",
    "    else:\n",
    "        buf = [replace_str(data_POS[i], data_ws[i]) for i in tqdm(range(len(data_ws)))]\n",
    "\n",
    "    output_name = \"./preo_data/replace_by_speical_tag_%s.json\" % FILENAME\n",
    "\n",
    "    try:\n",
    "        with open(output_name, 'w') as outfile:\n",
    "            json.dump(buf, outfile)\n",
    "        print(\"success to create %s\" % output_name)\n",
    "    except:\n",
    "        print(\"fail\")"
   ]
  },
  {
   "cell_type": "code",
   "execution_count": 137,
   "metadata": {},
   "outputs": [],
   "source": [
    "FILENAME_POS = \"Gossip_title_20000_to_39088_adjust_POS.json\"\n",
    "FILENAME_ws = \"Gossip_title_20000_to_39088_adjust_ws.json\""
   ]
  },
  {
   "cell_type": "code",
   "execution_count": 138,
   "metadata": {},
   "outputs": [
    {
     "name": "stdout",
     "output_type": "stream",
     "text": [
      "read data\n"
     ]
    }
   ],
   "source": [
    "    print(\"read data\")\n",
    "    with open(\"./ori_data/%s\" % FILENAME_POS) as json_file:\n",
    "        data_POS = json.load(json_file)\n",
    "\n",
    "    with open(\"./ori_data/%s\" % FILENAME_ws) as json_file:\n",
    "        data_ws = json.load(json_file)"
   ]
  },
  {
   "cell_type": "code",
   "execution_count": 140,
   "metadata": {},
   "outputs": [
    {
     "name": "stderr",
     "output_type": "stream",
     "text": [
      "\n",
      "\n",
      "100%|██████████| 1/1 [00:00<00:00, 4928.68it/s]\n"
     ]
    }
   ],
   "source": [
    "buf = [replace_str(data_POS[i], data_ws[i]) for i in tqdm(range(1))]"
   ]
  },
  {
   "cell_type": "code",
   "execution_count": 141,
   "metadata": {},
   "outputs": [
    {
     "data": {
      "text/plain": [
       "[['Nc', '司法', '天秤', '是', '不', '是', '真的', '不', '一樣', '的', '卦', '?', '!']]"
      ]
     },
     "execution_count": 141,
     "metadata": {},
     "output_type": "execute_result"
    }
   ],
   "source": [
    "buf "
   ]
  },
  {
   "cell_type": "code",
   "execution_count": 142,
   "metadata": {},
   "outputs": [
    {
     "data": {
      "text/plain": [
       "['Nc',\n",
       " 'Na',\n",
       " 'Na',\n",
       " 'SHI',\n",
       " 'D',\n",
       " 'SHI',\n",
       " 'D',\n",
       " 'D',\n",
       " 'VH',\n",
       " 'DE',\n",
       " 'Na',\n",
       " 'QUESTIONCATEGORY',\n",
       " 'EXCLAMATIONCATEGORY']"
      ]
     },
     "execution_count": 142,
     "metadata": {},
     "output_type": "execute_result"
    }
   ],
   "source": [
    "data_POS[0]"
   ]
  },
  {
   "cell_type": "code",
   "execution_count": 143,
   "metadata": {},
   "outputs": [
    {
     "data": {
      "text/plain": [
       "['台灣', '司法', '天秤', '是', '不', '是', '真的', '不', '一樣', '的', '卦', '?', '!']"
      ]
     },
     "execution_count": 143,
     "metadata": {},
     "output_type": "execute_result"
    }
   ],
   "source": [
    "data_ws[0]"
   ]
  },
  {
   "cell_type": "code",
   "execution_count": null,
   "metadata": {},
   "outputs": [],
   "source": []
  }
 ],
 "metadata": {
  "kernelspec": {
   "display_name": "Python 3",
   "language": "python",
   "name": "python3"
  },
  "language_info": {
   "codemirror_mode": {
    "name": "ipython",
    "version": 3
   },
   "file_extension": ".py",
   "mimetype": "text/x-python",
   "name": "python",
   "nbconvert_exporter": "python",
   "pygments_lexer": "ipython3",
   "version": "3.7.6"
  }
 },
 "nbformat": 4,
 "nbformat_minor": 2
}
