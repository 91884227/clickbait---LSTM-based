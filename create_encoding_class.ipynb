{
 "cells": [
  {
   "cell_type": "markdown",
   "metadata": {},
   "source": [
    "# import tool"
   ]
  },
  {
   "cell_type": "code",
   "execution_count": 135,
   "metadata": {},
   "outputs": [],
   "source": [
    "from sklearn import preprocessing\n",
    "import json\n",
    "import pandas as pd\n",
    "import numpy as np\n",
    "from itertools import chain\n",
    "from collections import Counter\n",
    "import pickle\n",
    "import sys"
   ]
  },
  {
   "cell_type": "markdown",
   "metadata": {},
   "source": [
    "# Find common word and save"
   ]
  },
  {
   "cell_type": "code",
   "execution_count": 124,
   "metadata": {},
   "outputs": [],
   "source": [
    "def find_common_word(list_, most_common_number_):\n",
    "    c = Counter(list_)\n",
    "    c_1 = c.most_common(most_common_number_)\n",
    "    buf = common_word_list = [i[0] for i in c_1]\n",
    "    return(buf)"
   ]
  },
  {
   "cell_type": "markdown",
   "metadata": {},
   "source": [
    "#  create Encoding function"
   ]
  },
  {
   "cell_type": "code",
   "execution_count": 125,
   "metadata": {},
   "outputs": [],
   "source": [
    "def create_encoding_function(list_):\n",
    "    le = preprocessing.LabelEncoder()\n",
    "    le.fit(list_ + [\"<UNK>\"])\n",
    "    return(le)\n",
    "\n",
    "# le.transform(['保持','閱讀','以及','的'])\n",
    "# list(le.classes_)\n",
    "# le.d"
   ]
  },
  {
   "cell_type": "code",
   "execution_count": 134,
   "metadata": {},
   "outputs": [
    {
     "name": "stdout",
     "output_type": "stream",
     "text": [
      "read data in...\n",
      "find most common word...\n",
      "create encoding function...\n",
      "save class...\n"
     ]
    }
   ],
   "source": [
    "if __name__ == '__main__':\n",
    "#     FILENAME = \"v5_X_normal_train.json\"\n",
    "#     MOST_COMMON_WORD = 10000\n",
    "#     SAVE_PRE_NAME = \"v1\"\n",
    "    FILENAME = sys.argv[1]\n",
    "    MOST_COMMON_WORD = int(sys.argv[2])\n",
    "    SAVE_PRE_NAME = sys.argv[3]\n",
    "\n",
    "    print(\"read data in...\")\n",
    "    with open('./preo_data/%s' % FILENAME) as json_file:\n",
    "        data = json.load(json_file)\n",
    "\n",
    "    data = list(chain.from_iterable(data))\n",
    "\n",
    "    print(\"find most common word...\")\n",
    "    most_common_word = find_common_word(data, MOST_COMMON_WORD)\n",
    "\n",
    "    print(\"create encoding function...\")\n",
    "    le = create_encoding_function(most_common_word) # le = preprocessing.LabelEncoder()\n",
    "\n",
    "    print(\"save class...\")\n",
    "    with open('./preo_data/%s_Encoding_function.pkl' % SAVE_PRE_NAME, 'wb') as output:\n",
    "        pickle.dump(le, output, pickle.HIGHEST_PROTOCOL)"
   ]
  }
 ],
 "metadata": {
  "kernelspec": {
   "display_name": "Python 3",
   "language": "python",
   "name": "python3"
  },
  "language_info": {
   "codemirror_mode": {
    "name": "ipython",
    "version": 3
   },
   "file_extension": ".py",
   "mimetype": "text/x-python",
   "name": "python",
   "nbconvert_exporter": "python",
   "pygments_lexer": "ipython3",
   "version": "3.7.6"
  }
 },
 "nbformat": 4,
 "nbformat_minor": 2
}
