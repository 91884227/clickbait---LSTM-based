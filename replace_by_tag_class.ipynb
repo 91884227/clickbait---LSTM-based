{
 "cells": [
  {
   "cell_type": "code",
   "execution_count": 7,
   "metadata": {},
   "outputs": [],
   "source": [
    "import pandas as pd\n",
    "import numpy as np\n",
    "import json\n",
    "from tqdm import tqdm\n",
    "import sys"
   ]
  },
  {
   "cell_type": "code",
   "execution_count": 8,
   "metadata": {},
   "outputs": [],
   "source": [
    "# f = open(REPLACE_TAG_FILE_path, 'r+')\n",
    "# date = f.read().splitlines()\n",
    "# print(date)\n",
    "# f.close()"
   ]
  },
  {
   "cell_type": "code",
   "execution_count": 9,
   "metadata": {},
   "outputs": [],
   "source": [
    "class class_replace_by_tag:\n",
    "    def __init__(self, tag_file_):\n",
    "        file_path = \"./module/%s\" % tag_file_\n",
    "        f = open(file_path, 'r+')\n",
    "        self.tag = f.read().splitlines()\n",
    "        f.close()\n",
    "    def __call__(self, ws_, pos_):\n",
    "        buf = ws_.copy()\n",
    "        for index, i_pos in enumerate(pos_):\n",
    "            if( i_pos in self.tag):\n",
    "                buf[index] = i_pos\n",
    "        return(buf)        "
   ]
  },
  {
   "cell_type": "code",
   "execution_count": 10,
   "metadata": {},
   "outputs": [],
   "source": [
    "# REPLACE_TAG_FILE = \"replace_tag.txt\"\n",
    "# test = class_replace_by_tag(REPLACE_TAG_FILE )\n",
    "# pos = ['武漢', '肺炎', '23日', '零', '確診', ' ', '連', '41', '天', '無', '本土', '病例']\n",
    "# ws =['Nc', 'Na', 'Nd', 'Neu','VD','WHITESPACE','Cbb','Neu','Nf','VJ','Nc','Na']\n",
    "# test(pos, ws)"
   ]
  }
 ],
 "metadata": {
  "kernelspec": {
   "display_name": "Python 3",
   "language": "python",
   "name": "python3"
  },
  "language_info": {
   "codemirror_mode": {
    "name": "ipython",
    "version": 3
   },
   "file_extension": ".py",
   "mimetype": "text/x-python",
   "name": "python",
   "nbconvert_exporter": "python",
   "pygments_lexer": "ipython3",
   "version": "3.7.7"
  }
 },
 "nbformat": 4,
 "nbformat_minor": 4
}
